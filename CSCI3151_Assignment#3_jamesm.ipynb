{
 "cells": [
  {
   "cell_type": "code",
   "execution_count": 71,
   "metadata": {
    "collapsed": true
   },
   "outputs": [
    {
     "name": "stderr",
     "output_type": "stream",
     "text": [
      "C:\\Users\\james\\Anaconda3\\lib\\site-packages\\sklearn\\linear_model\\logistic.py:433: FutureWarning: Default solver will be changed to 'lbfgs' in 0.22. Specify a solver to silence this warning.\n",
      "  FutureWarning)\n"
     ]
    },
    {
     "data": {
      "text/plain": [
       "Text(0,0.5,'Occurrences')"
      ]
     },
     "execution_count": 71,
     "metadata": {},
     "output_type": "execute_result"
    },
    {
     "data": {
      "image/png": "[encoded data removed]",
      "text/plain": [
       "<Figure size 432x288 with 1 Axes>"
      ]
     },
     "metadata": {
      "needs_background": "light"
     },
     "output_type": "display_data"
    }
   ],
   "source": [
    "#1 a)\n",
    "#i)\n",
    "import numpy as np\n",
    "\n",
    "positive_class = np.random.normal(0,1,1000)\n",
    "negative_class = np.random.normal(5,1,1000)\n",
    "X_train = np.concatenate((positive_class, negative_class)).reshape(-1,1)\n",
    "# 0~postive class & 1~negative class\n",
    "y_train = np.concatenate((np.zeros(1000), np.ones(1000)))\n",
    "\n",
    "#ii)\n",
    "from sklearn.linear_model import LogisticRegression\n",
    "\n",
    "lm = LogisticRegression().fit(X_train,y_train)\n",
    "#After experimenting with the parameters I found that class_weight and penalty have the largest impact on results\n",
    "\n",
    "#iii)\n",
    "X_test = np.concatenate((np.random.normal(0,1,100),np.random.normal(0,5,100))).reshape(-1,1)\n",
    "probs = lm.predict_proba(X_test)\n",
    "\n",
    "import matplotlib.pyplot as plt\n",
    "\n",
    "plt.hist(probs)\n",
    "plt.xlabel(\"Probability Estimates\")\n",
    "plt.ylabel(\"Occurrences\")\n",
    "\n",
    "#iv)\n",
    "#The classifier preforms quite well on the test set with a the probabilities of a correct - \n",
    "#classification being eight times higher than an incorrect classification."
   ]
  },
  {
   "cell_type": "markdown",
   "metadata": {},
   "source": [
    "iv) "
   ]
  },
  {
   "cell_type": "code",
   "execution_count": 132,
   "metadata": {},
   "outputs": [
    {
     "data": {
      "text/plain": [
       "Text(0,0.5,'Occurrences')"
      ]
     },
     "execution_count": 132,
     "metadata": {},
     "output_type": "execute_result"
    },
    {
     "data": {
      "image/png": "[encoded data removed]",
      "text/plain": [
       "<Figure size 432x288 with 1 Axes>"
      ]
     },
     "metadata": {
      "needs_background": "light"
     },
     "output_type": "display_data"
    }
   ],
   "source": [
    "#b)\n",
    "#i)\n",
    "nb_positive_class = np.random.normal(0,1,2)\n",
    "nb_positive_class = nb_positive_class.reshape(1,2)\n",
    "for i in range(1,1000):\n",
    "    nb_positive_class = np.concatenate((nb_positive_class, np.random.normal(0,1,2).reshape(1,2)))\n",
    "\n",
    "nb_negative_class = np.random.normal(5,1,2)\n",
    "nb_negative_class = nb_negative_class.reshape(1,2)\n",
    "for i in range(1,1000):\n",
    "    nb_negative_class = np.concatenate((nb_negative_class, np.random.normal(5,1,2).reshape(1,2)))\n",
    "    \n",
    "nb_X_train = np.concatenate((nb_positive_class, nb_negative_class)).reshape(-1,1)\n",
    "# 0~postive class & 1~negative class\n",
    "nb_y_train = np.concatenate((np.zeros(2000), np.ones(2000)))\n",
    "\n",
    "#ii)\n",
    "from sklearn.naive_bayes import GaussianNB\n",
    "\n",
    "gnb = GaussianNB().fit(nb_X_train,nb_y_train)\n",
    "#i had trouble experimenting with priors but found the var_smoothing didn't have a large impact on results.\n",
    "\n",
    "#iii)\n",
    "nb_X_test = np.concatenate((np.random.normal(0,1,100),np.random.normal(0,5,100))).reshape(-1,1)\n",
    "probs = lm.predict_proba(nb_X_test)\n",
    "\n",
    "import matplotlib.pyplot as plt\n",
    "\n",
    "plt.hist(probs)\n",
    "plt.xlabel(\"Probability Estimates\")\n",
    "plt.ylabel(\"Occurrences\")\n",
    "\n",
    "#iv)\n",
    "#The classifier preforms about the same as the previous KMeans classifier as it -\n",
    "#predicts the correct cluster eight times more often than incorrect."
   ]
  },
  {
   "cell_type": "markdown",
   "metadata": {},
   "source": [
    "iv)"
   ]
  },
  {
   "cell_type": "code",
   "execution_count": 133,
   "metadata": {},
   "outputs": [
    {
     "name": "stdout",
     "output_type": "stream",
     "text": [
      "[2 0 2 5 3 5 5 5 1 3 0 0 5 0 7 0 7 1 4 0 5 3 3 1 5 1 3 2 5 3 0 5 3 3 3 3 3\n",
      " 0 0 3 6 3 3 3 4 3 3 0 0 2 0 1 1 4 6 4 5 6 0 6 1 4 4 6 7 4 5 5 5 5 3 1 7 1\n",
      " 0 3 1 1 2 0 5 0 5 0 2 3 4 3 6 7 5 1 3 4 4 3 5 0 3 5 0 3 0 5 4 5 0 3 0 3 0\n",
      " 0 3 0 3 1 5 3 0 2 0 3 0 3 0]\n",
      "[0 0 0 0 0 0 0 0 0 0 0 0 0 0 0 0 0 0 0 0 0 0 0 0 0 0 0 0 0 0 0 0 0 0 0 0 0\n",
      " 0 0 0 0 0 0 0 0 0 0 0 0 0 0 0 0 0 0 0 0 0 0 0 0 0 0 0 0 0 0 0 0 0 0 0 0 0\n",
      " 0 0 0 0 0 0 0 0 0 0 0 0 0 0 0 0 0 0 0 0 0 0 0 0 0 0 0 0 0 0 0 0 0 0 0 0 0\n",
      " 0 0 0 0 0 0 0 0 0 0 0 0 0 0]\n"
     ]
    },
    {
     "name": "stderr",
     "output_type": "stream",
     "text": [
      "C:\\Users\\james\\Anaconda3\\lib\\site-packages\\sklearn\\preprocessing\\label.py:235: DataConversionWarning: A column-vector y was passed when a 1d array was expected. Please change the shape of y to (n_samples, ), for example using ravel().\n",
      "  y = column_or_1d(y, warn=True)\n"
     ]
    }
   ],
   "source": [
    "#2\n",
    "from sklearn.cluster import KMeans\n",
    "from sklearn.mixture import GaussianMixture\n",
    "from sklearn import preprocessing\n",
    "from sklearn.model_selection import train_test_split\n",
    "import pandas as pd\n",
    "\n",
    "df = pd.read_csv('C:/Users/james/OneDrive/Documents/Current/CSCI3151/mouse.csv', sep=\" \", header=None)\n",
    "mouse_X = df[[0,1]] \n",
    "mouse_y = df[[2]]\n",
    "mouse_X_train, mouse_X_test, mouse_y_train, mouse_y_test = train_test_split(mouse_X,mouse_y)\n",
    "le = preprocessing.LabelEncoder()\n",
    "mouse_y_train = le.fit_transform(mouse_y_train)\n",
    "mouse_y_test = le.fit_transform(mouse_y_test)\n",
    "\n",
    "#a)\n",
    "cl = KMeans().fit(mouse_X_train,mouse_y_train)\n",
    "clust = cl.predict(mouse_X_test)\n",
    "print(clust)\n",
    "\n",
    "#b)\n",
    "gmm = GaussianMixture(init_params='random').fit(mouse_X_train,mouse_y_train)\n",
    "g_clust = gmm.predict(mouse_X_test)\n",
    "print(g_clust)"
   ]
  },
  {
   "cell_type": "markdown",
   "metadata": {},
   "source": [
    "#3  \n",
    "a)  \n",
    "  * i) If X and Y are independent, $p(X,Y)=p(X)p(Y)$ so $I(X;Y)=\\sum_{x}\\sum_{y}p(X)P(Y)log(1)$ and since $log(1)=0$, $I(X;Y)=0$  \n",
    "  * ii) If X and Y are mutually exclusive then $p(X,Y)=0$ so $I(X;Y)=\\sum_{x}p(X)log(p(X))+\\sum_{y}p(Y)log(p(Y))$  \n",
    "  * iii)  \n",
    "  * iv)  \n",
    "      * $I(X;Y)=H(X)-H(X|Y)$  \n",
    "      * $I(X;Y)=-\\sum_{x}p(x)log(p(x))+\\sum_{x}\\sum_{y}p(y)p(x|y)log(p(x|y))$  \n",
    "      * $I(X;Y)=-\\sum_{x}\\sum_{y}p(x,y)log(p(x))+\\sum_{x}\\sum_{y}p(x,y)log(p(x,y)/p(x))$  \n",
    "      * $I(X;Y)=\\sum_{x}\\sum_{y}p(x,y)log(p(x,y)/p(x)p(y))$  \n",
    "      * $I(X;Y)=I(X;Y)$  \n",
    "H(Y|X=x) is the amount of information needed to describe Y given that X is equal to x, while H(X|Y) is the amount of information needed to describe X given Y is known.  \n",
    "  * v) Since clusters($\\omega$) and classes(c) are discrete Random Variables the equation for MI on page 84 can be expressed as $I(\\Omega,C)=\\sum_{k}\\sum_{j}p(\\omega_{k},C_{j})log(p(\\omega_{k},C_{j})/p(\\omega_{k})p(C_{j}))$ which is literally the same equation used above but with clusters and classes instead of X and Y. It is still represents the given information using joint entropy.  \n",
    "b)  \n",
    "i) If the clusters perfectly match the classes then Purity is simply the sum of the number of documents in each class divided by the total number of documents, therefore $Purity=N/N=1$ or 100% purity. The Rand Index is similar because the false negative, and false positive will both be zero, leaving $RI=(TP+TN)/(TP+TN)$  \n",
    "ii)  \n"
   ]
  },
  {
   "cell_type": "code",
   "execution_count": 70,
   "metadata": {},
   "outputs": [
    {
     "name": "stdout",
     "output_type": "stream",
     "text": [
      "Purity, Rand Index, and NMI for KMeans:\n",
      "0.96\n",
      "0.36708561740452117\n",
      "0.4565126335537493\n",
      "\n",
      "Purity, Rand Index, and NMI for EM:\n",
      "0.552\n",
      "0.0\n",
      "1.2372237388894824e-15\n"
     ]
    }
   ],
   "source": [
    "#c)\n",
    "from sklearn import metrics\n",
    "from sklearn.metrics.cluster import adjusted_mutual_info_score, adjusted_rand_score\n",
    "\n",
    "matrix = metrics.cluster.contingency_matrix(mouse_y_test, clust)\n",
    "print(\"Purity, Rand Index, and NMI for KMeans:\")\n",
    "print(np.sum(np.amax(matrix, axis=0)) / np.sum(matrix))\n",
    "print(adjusted_rand_score(mouse_y_test, clust))\n",
    "print(adjusted_mutual_info_score(mouse_y_test, clust))\n",
    "\n",
    "matrix = metrics.cluster.contingency_matrix(mouse_y_test, g_clust)\n",
    "print(\"\\nPurity, Rand Index, and NMI for EM:\")\n",
    "print(np.sum(np.amax(matrix, axis=0)) / np.sum(matrix))\n",
    "print(metrics.cluster.adjusted_rand_score(mouse_y_test, g_clust))\n",
    "print(adjusted_mutual_info_score(mouse_y_test, g_clust))"
   ]
  }
 ],
 "metadata": {
  "kernelspec": {
   "display_name": "Python 3",
   "language": "python",
   "name": "python3"
  },
  "language_info": {
   "codemirror_mode": {
    "name": "ipython",
    "version": 3
   },
   "file_extension": ".py",
   "mimetype": "text/x-python",
   "name": "python",
   "nbconvert_exporter": "python",
   "pygments_lexer": "ipython3",
   "version": "3.6.8"
  }
 },
 "nbformat": 4,
 "nbformat_minor": 2
}
