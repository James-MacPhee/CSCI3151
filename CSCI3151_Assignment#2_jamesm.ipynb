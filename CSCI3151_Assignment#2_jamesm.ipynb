{
 "cells": [
  {
   "cell_type": "markdown",
   "metadata": {},
   "source": [
    "#1 (a)"
   ]
  },
  {
   "cell_type": "code",
   "execution_count": 439,
   "metadata": {},
   "outputs": [
    {
     "name": "stdout",
     "output_type": "stream",
     "text": [
      "[2 1 1 2 0 2 1 2 0 2 0 1 1 0 0 1 2 1 0 1 2 0 1 0 2 2 0 2 2 1 1 0 1 1 1 0 0\n",
      " 0 2 2 0 1 1 2 0 0 2 1 1 1 1 2 1 2 2 2 2 2 1 1 2 2 2 2 0 0 1 1 1 0 0 2 2 2\n",
      " 2 2 2 0 2 1]\n",
      "Mean:  0.56875\n",
      "Variance:  0.64359375\n"
     ]
    },
    {
     "data": {
      "image/png": "[encoded data removed]",
      "text/plain": [
       "<Figure size 432x288 with 1 Axes>"
      ]
     },
     "metadata": {
      "needs_background": "light"
     },
     "output_type": "display_data"
    }
   ],
   "source": [
    "import numpy as np\n",
    "import pandas as pd\n",
    "import random\n",
    "import matplotlib.pyplot as plt\n",
    "\n",
    "n = 2\n",
    "p = 0.5\n",
    "m = 80\n",
    "results = np.random.binomial(n,p,size=m)\n",
    "\n",
    "#(i)\n",
    "mean = np.mean(results)/n\n",
    "variance = np.var(results)\n",
    "print(results)\n",
    "print(\"Mean: \", mean)\n",
    "print(\"Variance: \", variance)\n",
    "\n",
    "#(ii)\n",
    "plt.hist(results, range=(0,n))\n",
    "plt.ylabel(\"# of occurences out of m\")\n",
    "plt.xlabel(\"# of coin flips (n)\")\n",
    "plt.title(\"Heads (h)\")\n",
    "#The histogram looks approximately like a discrete version of the normal distribution\n",
    "\n",
    "#(iii)\n",
    "theory_mean = n*p\n",
    "theory_var = n*p*(1-p)\n",
    "abs_diff_mean = np.maximum(mean-theory_mean, theory_mean-mean)\n",
    "abs_diff_var = np.maximum(variance-theory_var, theory_var-variance)"
   ]
  },
  {
   "cell_type": "markdown",
   "metadata": {},
   "source": [
    "#1 (b)"
   ]
  },
  {
   "cell_type": "code",
   "execution_count": 441,
   "metadata": {},
   "outputs": [
    {
     "name": "stdout",
     "output_type": "stream",
     "text": [
      "0.4\n",
      "0.7375\n",
      "0.5423728813559322\n"
     ]
    }
   ],
   "source": [
    "#(i)\n",
    "prob_A = np.count_nonzero(results==2)/m\n",
    "print(prob_A)\n",
    "prob_B = np.count_nonzero(results>=1)/m\n",
    "print(prob_B)\n",
    "prob_A_given_B = prob_A/prob_B #Because P(A and B) is equal to P(A) in this case\n",
    "print(prob_A_given_B)\n",
    "\n",
    "#(ii)\n",
    "theory_pA = 1/4\n",
    "theory_pB = 3/4\n",
    "theory_pA_given_B = 1/3\n",
    "abs_diff_pA = np.maximum(theory_pA-prob_A, prob_A-theory_pA)\n",
    "abs_diff_pB = np.maximum(theory_pB-prob_B, prob_B-theory_pB)\n",
    "abs_diff_pA_given_B = np.maximum(theory_pA_given_B-prob_A_given_B, prob_A_given_B-theory_pA_given_B)"
   ]
  },
  {
   "cell_type": "markdown",
   "metadata": {},
   "source": [
    "(iii)  \n",
    "L(P) = $\\prod_{i=1}^{M} p^{x_{i}}(1-p)^{n-x_{i}}$  \n",
    "L(P) = $p^{Mx}(1-p)^{M(n-x)}$  \n",
    "ln(L(P)) = $Mxln(p)+M(n-x)ln(1-p)$  \n",
    "$0=Mx/(\\hat{p})-M(n-x)/(1-\\hat{p})$  \n",
    "$Mx/(\\hat{p})=M(n-x)/(1-\\hat{p})$  \n",
    "$(Mn-MX)(\\hat{p})=MX(1-\\hat{p})$  \n",
    "$Mn\\hat{p}-MX\\hat{p})=MX-MX\\hat{p}$  \n",
    "$Mn\\hat{p}=MX$  \n",
    "$\\hat{p}=MX/Mn$  \n",
    "$\\hat{p}=X/n$"
   ]
  },
  {
   "cell_type": "markdown",
   "metadata": {},
   "source": [
    "#1 (c)  \n",
    "(i) Yes events C and D are independent because P(C)*P(D)=P(C and D)  \n",
    "P(C) = 1/2  \n",
    "P(D) = 1/2  \n",
    "P(C and D) = 1/4 = P(C)*P(D)"
   ]
  },
  {
   "cell_type": "code",
   "execution_count": null,
   "metadata": {},
   "outputs": [],
   "source": [
    "#(ii)\n",
    "#prob_C = results.count(0)\n",
    "#prob_D = results.count()\n",
    "#prob_CD = results.count()\n",
    "\n",
    "#(iii)\n"
   ]
  },
  {
   "cell_type": "markdown",
   "metadata": {},
   "source": [
    "#1 (d)  \n",
    "(i)  \n",
    "P(HF) = P(H|F)*P(F) = (1/2)*(1/40) = 1/80  \n",
    "P(HF') = P(H)-P(HF) = (1/10)-(1/80) = 7/80  \n",
    "P(H'F) = P(F)-P(HF) = (1/40)-(1/80) = 1/80  \n",
    "P(H'F') = P(HuF)' = 1-P(H)-P(F)+P(HF) = 1-(1/10)-(1/40)+(1/80) = 71/80"
   ]
  },
  {
   "cell_type": "code",
   "execution_count": 537,
   "metadata": {},
   "outputs": [
    {
     "name": "stdout",
     "output_type": "stream",
     "text": [
      "['C', 'C', 'F', 'C', 'F', 'C', 'C', 'C', 'F', 'C', 'H', 'C', 'C', 'C', 'F', 'C', 'C', 'C', 'C', 'C', 'C', 'C', 'C', 'C', 'F', 'C', 'H', 'C', 'C', 'C', 'C', 'C', 'C', 'C', 'C', 'C', 'C', 'C', 'F', 'C', 'H', 'C', 'F', 'C', 'C', 'F', 'C', 'C', 'C', 'C', 'C', 'C', 'C', 'C', 'C', 'HF', 'C', 'C', 'C', 'C', 'C', 'C', 'C', 'F', 'C', 'F', 'C', 'C', 'C', 'C', 'C', 'C', 'C', 'C', 'C', 'C', 'C', 'C']\n",
      "0.0375\n",
      "0.125\n",
      "0.1\n"
     ]
    }
   ],
   "source": [
    "#(ii)\n",
    "size = 80\n",
    "ls=[]\n",
    "for x in range(0,size):\n",
    "    rand=random.randint(1,size+1)\n",
    "    if rand <= (1/80)*size:\n",
    "        ls.append('HF')\n",
    "    elif rand <= (1/10)*size:\n",
    "        ls.append('F')\n",
    "    elif rand <= (1/8)*size:\n",
    "        ls.append('H')\n",
    "    elif rand <= size:\n",
    "        ls.append('C')\n",
    "print(ls)\n",
    "\n",
    "#(iii)\n",
    "prob_H = ls.count('H')/size\n",
    "print(prob_H)\n",
    "prob_F = ls.count('F')/size\n",
    "print(prob_F)\n",
    "prob_HgivenF = (ls.count('HF')/prob_F)/size\n",
    "print(prob_HgivenF)"
   ]
  },
  {
   "cell_type": "markdown",
   "metadata": {},
   "source": [
    "==============================================================================================================\n",
    "#2"
   ]
  },
  {
   "cell_type": "code",
   "execution_count": 384,
   "metadata": {},
   "outputs": [
    {
     "data": {
      "text/plain": [
       "Text(0,0.5,'z')"
      ]
     },
     "execution_count": 384,
     "metadata": {},
     "output_type": "execute_result"
    },
    {
     "data": {
      "image/png": "[encoded data removed]",
      "text/plain": [
       "<Figure size 432x288 with 1 Axes>"
      ]
     },
     "metadata": {
      "needs_background": "light"
     },
     "output_type": "display_data"
    }
   ],
   "source": [
    "#Calculating gradient of any 2-variable function\n",
    "from sympy import *\n",
    "x = Symbol('x')\n",
    "y = Symbol('y')\n",
    "\n",
    "function = (x-1)**2 + (y-2)**2\n",
    "dfx = function.diff(x) #Partial derivative w.r.t 'x' \n",
    "dfy = function.diff(y) #Partial derivative w.r.t 'y'\n",
    "gradient = [dfx, dfy] #Gradient 'vector'\n",
    "\n",
    "#Calculating gradient descent iterations\n",
    "iterations = []\n",
    "curr_x = random.randint(-100,100)\n",
    "curr_y = random.randint(-100,100)\n",
    "alpha = .1\n",
    "counter = 0\n",
    "prev_step = 1\n",
    "max_count = 1000\n",
    "epsilon = 0.000001\n",
    "\n",
    "while prev_step > epsilon and counter < max_count:\n",
    "    old_x = curr_x\n",
    "    old_y = curr_y\n",
    "    curr_x = curr_x - alpha*dfx.subs(x, old_x).subs(y, old_y) #Perform gradiant descent\n",
    "    curr_y = curr_y - alpha*dfy.subs(x, old_x).subs(y, old_y) #Perform gradiant descent\n",
    "    prev_step = np.maximum(abs(curr_x - old_x), abs(curr_y - old_y)) #Calculate delta x\n",
    "    iterations.append(function.subs(x,curr_x).subs(y,curr_y))\n",
    "    counter += 1 \n",
    "\n",
    "#Plotting trajectory on iterations\n",
    "plt.scatter(iterations,list(range(len(iterations))));\n",
    "plt.xlabel('iterations')\n",
    "plt.ylabel('z')"
   ]
  },
  {
   "cell_type": "markdown",
   "metadata": {},
   "source": [
    "As I changed the values of alpha the speed to convergence changed drastically. As the values of alpha increased as did the speed to convergence. At values of alpha=0.1 I was able to reach convergence after only 70 iterations, but with alpha=0.0001 it could take all the way up 12000 iterations.  \n",
    "\n",
    " ================================================================================================================= \n",
    " #3"
   ]
  },
  {
   "cell_type": "markdown",
   "metadata": {},
   "source": [
    "# <a href=\"https://ibb.co/LDFL2rq\"><img src=\"https://i.ibb.co/Q7g21kq/Question-3.jpg\" alt=\"Question-3\" border=\"0\"></a>"
   ]
  }
 ],
 "metadata": {
  "kernelspec": {
   "display_name": "Python 3",
   "language": "python",
   "name": "python3"
  },
  "language_info": {
   "codemirror_mode": {
    "name": "ipython",
    "version": 3
   },
   "file_extension": ".py",
   "mimetype": "text/x-python",
   "name": "python",
   "nbconvert_exporter": "python",
   "pygments_lexer": "ipython3",
   "version": "3.6.8"
  }
 },
 "nbformat": 4,
 "nbformat_minor": 2
}
